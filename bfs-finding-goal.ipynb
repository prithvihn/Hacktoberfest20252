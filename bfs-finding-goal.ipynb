{
 "cells": [
  {
   "cell_type": "code",
   "execution_count": 1,
   "id": "fe2f0a2f",
   "metadata": {
    "_cell_guid": "b1076dfc-b9ad-4769-8c92-a6c4dae69d19",
    "_uuid": "8f2839f25d086af736a60e9eeb907d3b93b6e0e5",
    "execution": {
     "iopub.execute_input": "2025-03-04T04:07:28.950396Z",
     "iopub.status.busy": "2025-03-04T04:07:28.950071Z",
     "iopub.status.idle": "2025-03-04T04:07:29.788095Z",
     "shell.execute_reply": "2025-03-04T04:07:29.786879Z"
    },
    "papermill": {
     "duration": 0.843092,
     "end_time": "2025-03-04T04:07:29.790000",
     "exception": false,
     "start_time": "2025-03-04T04:07:28.946908",
     "status": "completed"
    },
    "tags": []
   },
   "outputs": [],
   "source": [
    "# This Python 3 environment comes with many helpful analytics libraries installed\n",
    "# It is defined by the kaggle/python Docker image: https://github.com/kaggle/docker-python\n",
    "# For example, here's several helpful packages to load\n",
    "\n",
    "import numpy as np # linear algebra\n",
    "import pandas as pd # data processing, CSV file I/O (e.g. pd.read_csv)\n",
    "\n",
    "# Input data files are available in the read-only \"../input/\" directory\n",
    "# For example, running this (by clicking run or pressing Shift+Enter) will list all files under the input directory\n",
    "\n",
    "import os\n",
    "for dirname, _, filenames in os.walk('/kaggle/input'):\n",
    "    for filename in filenames:\n",
    "        print(os.path.join(dirname, filename))\n",
    "\n",
    "# You can write up to 20GB to the current directory (/kaggle/working/) that gets preserved as output when you create a version using \"Save & Run All\" \n",
    "# You can also write temporary files to /kaggle/temp/, but they won't be saved outside of the current session"
   ]
  },
  {
   "cell_type": "code",
   "execution_count": 2,
   "id": "45aedecf",
   "metadata": {
    "execution": {
     "iopub.execute_input": "2025-03-04T04:07:29.795182Z",
     "iopub.status.busy": "2025-03-04T04:07:29.794704Z",
     "iopub.status.idle": "2025-03-04T04:07:29.802881Z",
     "shell.execute_reply": "2025-03-04T04:07:29.801975Z"
    },
    "papermill": {
     "duration": 0.012389,
     "end_time": "2025-03-04T04:07:29.804605",
     "exception": false,
     "start_time": "2025-03-04T04:07:29.792216",
     "status": "completed"
    },
    "tags": []
   },
   "outputs": [
    {
     "name": "stdout",
     "output_type": "stream",
     "text": [
      "BFS goal path: ['A', 'C', 'T']\n"
     ]
    }
   ],
   "source": [
    "from collections import deque\n",
    "\n",
    "def bfs(graph, start, goal):\n",
    "    queue = deque([(start, [start])])  \n",
    "    visited = set()\n",
    "    \n",
    "    while queue:\n",
    "        node, path = queue.popleft()\n",
    "        \n",
    "        if node == goal:\n",
    "            return path  \n",
    "            \n",
    "        if node not in visited:\n",
    "            visited.add(node)\n",
    "            \n",
    "            for neighbor in graph[node]:\n",
    "                queue.append((neighbor, path + [neighbor]))  \n",
    "\n",
    "    return None  \n",
    "\n",
    "graph = {\n",
    "    'A': ['L', 'M', 'C'],\n",
    "    'L': ['A', 'P'],\n",
    "    'M': ['A', 'K', 'R'],\n",
    "    'C': ['A', 'T', 'G'],\n",
    "    'P': ['L'],\n",
    "    'K': ['M'],\n",
    "    'R': ['M'],\n",
    "    'T': ['C'],\n",
    "    'G': ['C']\n",
    "}\n",
    "\n",
    "start = 'A'\n",
    "goal = 'T'\n",
    "path = bfs(graph, start, goal)\n",
    "print(\"BFS goal path:\", path)  "
   ]
  },
  {
   "cell_type": "code",
   "execution_count": 3,
   "id": "48498503",
   "metadata": {
    "execution": {
     "iopub.execute_input": "2025-03-04T04:07:29.809605Z",
     "iopub.status.busy": "2025-03-04T04:07:29.809252Z",
     "iopub.status.idle": "2025-03-04T04:07:29.815545Z",
     "shell.execute_reply": "2025-03-04T04:07:29.814699Z"
    },
    "papermill": {
     "duration": 0.010332,
     "end_time": "2025-03-04T04:07:29.817044",
     "exception": false,
     "start_time": "2025-03-04T04:07:29.806712",
     "status": "completed"
    },
    "tags": []
   },
   "outputs": [
    {
     "name": "stdout",
     "output_type": "stream",
     "text": [
      "DFS path to goal: ['A', 'C', 'T']\n"
     ]
    }
   ],
   "source": [
    "def dfs(graph, start, goal):\n",
    "    stack = [(start, [start])]  \n",
    "    visited = set() \n",
    "\n",
    "    while stack:\n",
    "        node, path = stack.pop()  \n",
    "        if node == goal:\n",
    "            return path  \n",
    "\n",
    "        if node not in visited:\n",
    "            visited.add(node)  \n",
    "\n",
    "            \n",
    "            for neighbor in reversed(graph[node]):\n",
    "                stack.append((neighbor, path + [neighbor]))\n",
    "\n",
    "    return None \n",
    "\n",
    "path = dfs(graph, start, goal)\n",
    "print(\"DFS path to goal:\", path)  "
   ]
  },
  {
   "cell_type": "code",
   "execution_count": null,
   "id": "b5ae4c6e",
   "metadata": {
    "papermill": {
     "duration": 0.001612,
     "end_time": "2025-03-04T04:07:29.820692",
     "exception": false,
     "start_time": "2025-03-04T04:07:29.819080",
     "status": "completed"
    },
    "tags": []
   },
   "outputs": [],
   "source": []
  }
 ],
 "metadata": {
  "kaggle": {
   "accelerator": "none",
   "dataSources": [],
   "dockerImageVersionId": 30918,
   "isGpuEnabled": false,
   "isInternetEnabled": false,
   "language": "python",
   "sourceType": "notebook"
  },
  "kernelspec": {
   "display_name": "Python 3",
   "language": "python",
   "name": "python3"
  },
  "language_info": {
   "codemirror_mode": {
    "name": "ipython",
    "version": 3
   },
   "file_extension": ".py",
   "mimetype": "text/x-python",
   "name": "python",
   "nbconvert_exporter": "python",
   "pygments_lexer": "ipython3",
   "version": "3.10.12"
  },
  "papermill": {
   "default_parameters": {},
   "duration": 3.992801,
   "end_time": "2025-03-04T04:07:30.340554",
   "environment_variables": {},
   "exception": null,
   "input_path": "__notebook__.ipynb",
   "output_path": "__notebook__.ipynb",
   "parameters": {},
   "start_time": "2025-03-04T04:07:26.347753",
   "version": "2.6.0"
  }
 },
 "nbformat": 4,
 "nbformat_minor": 5
}
