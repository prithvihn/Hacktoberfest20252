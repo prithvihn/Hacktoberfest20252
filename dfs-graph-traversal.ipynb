{
 "cells": [
  {
   "cell_type": "code",
   "execution_count": 1,
   "id": "67405a5e",
   "metadata": {
    "_cell_guid": "b1076dfc-b9ad-4769-8c92-a6c4dae69d19",
    "_uuid": "8f2839f25d086af736a60e9eeb907d3b93b6e0e5",
    "execution": {
     "iopub.execute_input": "2025-03-03T20:23:28.841615Z",
     "iopub.status.busy": "2025-03-03T20:23:28.841291Z",
     "iopub.status.idle": "2025-03-03T20:23:29.738747Z",
     "shell.execute_reply": "2025-03-03T20:23:29.737677Z"
    },
    "papermill": {
     "duration": 0.902466,
     "end_time": "2025-03-03T20:23:29.740533",
     "exception": false,
     "start_time": "2025-03-03T20:23:28.838067",
     "status": "completed"
    },
    "tags": []
   },
   "outputs": [],
   "source": [
    "# This Python 3 environment comes with many helpful analytics libraries installed\n",
    "# It is defined by the kaggle/python Docker image: https://github.com/kaggle/docker-python\n",
    "# For example, here's several helpful packages to load\n",
    "\n",
    "import numpy as np # linear algebra\n",
    "import pandas as pd # data processing, CSV file I/O (e.g. pd.read_csv)\n",
    "\n",
    "# Input data files are available in the read-only \"../input/\" directory\n",
    "# For example, running this (by clicking run or pressing Shift+Enter) will list all files under the input directory\n",
    "\n",
    "import os\n",
    "for dirname, _, filenames in os.walk('/kaggle/input'):\n",
    "    for filename in filenames:\n",
    "        print(os.path.join(dirname, filename))\n",
    "\n",
    "# You can write up to 20GB to the current directory (/kaggle/working/) that gets preserved as output when you create a version using \"Save & Run All\" \n",
    "# You can also write temporary files to /kaggle/temp/, but they won't be saved outside of the current session"
   ]
  },
  {
   "cell_type": "code",
   "execution_count": 2,
   "id": "8a3b754d",
   "metadata": {
    "execution": {
     "iopub.execute_input": "2025-03-03T20:23:29.745891Z",
     "iopub.status.busy": "2025-03-03T20:23:29.745395Z",
     "iopub.status.idle": "2025-03-03T20:23:29.754328Z",
     "shell.execute_reply": "2025-03-03T20:23:29.753519Z"
    },
    "papermill": {
     "duration": 0.012976,
     "end_time": "2025-03-03T20:23:29.755894",
     "exception": false,
     "start_time": "2025-03-03T20:23:29.742918",
     "status": "completed"
    },
    "tags": []
   },
   "outputs": [
    {
     "name": "stdout",
     "output_type": "stream",
     "text": [
      "A C P Y L R G B M K D "
     ]
    }
   ],
   "source": [
    "from collections import deque\n",
    "\n",
    "def bfs (graph, start):\n",
    "    visited = set()\n",
    "    stack = deque([start])\n",
    "   \n",
    "    while stack:\n",
    "        node = stack.pop()\n",
    "        if node not in visited:\n",
    "            print(node,end=' ')\n",
    "            visited.add(node)\n",
    "            stack.extend(graph[node])\n",
    "\n",
    "graph = {\n",
    "    'A':['B','C'],\n",
    "    'B':['A','D','M'],\n",
    "    'C':['A','L','P'],\n",
    "    'D':['B'],\n",
    "    'M':['B','K'],\n",
    "    'L':['C','R'],\n",
    "    'P':['C','Y'],\n",
    "    'K':['M'],\n",
    "    'R':['L','G'],\n",
    "    'Y':['P'],\n",
    "    'G':['R']\n",
    "}\n",
    "\n",
    "bfs (graph,'A')\n"
   ]
  }
 ],
 "metadata": {
  "kaggle": {
   "accelerator": "none",
   "dataSources": [],
   "dockerImageVersionId": 30918,
   "isGpuEnabled": false,
   "isInternetEnabled": false,
   "language": "python",
   "sourceType": "notebook"
  },
  "kernelspec": {
   "display_name": "Python 3",
   "language": "python",
   "name": "python3"
  },
  "language_info": {
   "codemirror_mode": {
    "name": "ipython",
    "version": 3
   },
   "file_extension": ".py",
   "mimetype": "text/x-python",
   "name": "python",
   "nbconvert_exporter": "python",
   "pygments_lexer": "ipython3",
   "version": "3.10.12"
  },
  "papermill": {
   "default_parameters": {},
   "duration": 4.17714,
   "end_time": "2025-03-03T20:23:30.276782",
   "environment_variables": {},
   "exception": null,
   "input_path": "__notebook__.ipynb",
   "output_path": "__notebook__.ipynb",
   "parameters": {},
   "start_time": "2025-03-03T20:23:26.099642",
   "version": "2.6.0"
  }
 },
 "nbformat": 4,
 "nbformat_minor": 5
}
